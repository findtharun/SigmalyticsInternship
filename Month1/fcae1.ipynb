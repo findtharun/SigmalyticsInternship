{
 "cells": [
  {
   "cell_type": "code",
   "execution_count": 1,
   "metadata": {},
   "outputs": [
    {
     "name": "stderr",
     "output_type": "stream",
     "text": [
      "Using TensorFlow backend.\n"
     ]
    }
   ],
   "source": [
    "from keras.models import Sequential\n",
    "from keras.layers import Conv2D\n",
    "from keras.layers import MaxPooling2D\n",
    "from keras.layers import Flatten\n",
    "from keras.layers import Dense"
   ]
  },
  {
   "cell_type": "code",
   "execution_count": 2,
   "metadata": {},
   "outputs": [],
   "source": [
    "classifier = Sequential()"
   ]
  },
  {
   "cell_type": "code",
   "execution_count": 3,
   "metadata": {},
   "outputs": [
    {
     "name": "stdout",
     "output_type": "stream",
     "text": [
      "WARNING:tensorflow:From C:\\Users\\kumar\\Anaconda3\\lib\\site-packages\\tensorflow\\python\\ops\\resource_variable_ops.py:435: colocate_with (from tensorflow.python.framework.ops) is deprecated and will be removed in a future version.\n",
      "Instructions for updating:\n",
      "Colocations handled automatically by placer.\n"
     ]
    }
   ],
   "source": [
    "classifier.add(Conv2D(32, (3, 3), input_shape = (64, 64, 3), activation = 'relu'))"
   ]
  },
  {
   "cell_type": "code",
   "execution_count": 4,
   "metadata": {},
   "outputs": [],
   "source": [
    "classifier.add(MaxPooling2D(pool_size = (2, 2)))\n"
   ]
  },
  {
   "cell_type": "code",
   "execution_count": 5,
   "metadata": {},
   "outputs": [],
   "source": [
    "classifier.add(Flatten())"
   ]
  },
  {
   "cell_type": "code",
   "execution_count": 6,
   "metadata": {},
   "outputs": [],
   "source": [
    "classifier.add(Dense(units = 128, activation = 'relu'))"
   ]
  },
  {
   "cell_type": "code",
   "execution_count": 7,
   "metadata": {},
   "outputs": [],
   "source": [
    "classifier.add(Dense(units = 3, activation = 'sigmoid'))"
   ]
  },
  {
   "cell_type": "code",
   "execution_count": 8,
   "metadata": {},
   "outputs": [],
   "source": [
    "classifier.add(Dense(units = 3, activation = 'softmax'))"
   ]
  },
  {
   "cell_type": "code",
   "execution_count": 9,
   "metadata": {},
   "outputs": [],
   "source": [
    "classifier.compile(optimizer = 'adam', loss = 'categorical_crossentropy', metrics = ['accuracy']) #categorical_crossentropy"
   ]
  },
  {
   "cell_type": "code",
   "execution_count": 10,
   "metadata": {},
   "outputs": [],
   "source": [
    "from keras.preprocessing.image import ImageDataGenerator\n"
   ]
  },
  {
   "cell_type": "code",
   "execution_count": 11,
   "metadata": {},
   "outputs": [
    {
     "name": "stdout",
     "output_type": "stream",
     "text": [
      "Found 349 images belonging to 3 classes.\n"
     ]
    }
   ],
   "source": [
    "train_datagen = ImageDataGenerator(rescale = 1./255,\n",
    "shear_range = 0.2,\n",
    "zoom_range = 0.2,\n",
    "horizontal_flip = True)\n",
    "test_datagen = ImageDataGenerator(rescale = 1./255)\n",
    "training_set = train_datagen.flow_from_directory(r'C:\\Users\\kumar\\Autonomous\\tharun\\data\\train',\n",
    "target_size = (64, 64),\n",
    "batch_size = 32,\n",
    "class_mode = 'categorical' )\n"
   ]
  },
  {
   "cell_type": "code",
   "execution_count": 12,
   "metadata": {},
   "outputs": [
    {
     "name": "stdout",
     "output_type": "stream",
     "text": [
      "WARNING:tensorflow:From C:\\Users\\kumar\\Anaconda3\\lib\\site-packages\\tensorflow\\python\\ops\\math_ops.py:3066: to_int32 (from tensorflow.python.ops.math_ops) is deprecated and will be removed in a future version.\n",
      "Instructions for updating:\n",
      "Use tf.cast instead.\n",
      "Epoch 1/40\n",
      "5/5 [==============================] - 24s 5s/step - loss: 1.0991 - accuracy: 0.3187\n",
      "Epoch 2/40\n",
      "5/5 [==============================] - 20s 4s/step - loss: 1.0203 - accuracy: 0.4586\n",
      "Epoch 3/40\n",
      "5/5 [==============================] - 23s 5s/step - loss: 1.0234 - accuracy: 0.3567\n",
      "Epoch 4/40\n",
      "5/5 [==============================] - 23s 5s/step - loss: 1.0158 - accuracy: 0.4125\n",
      "Epoch 5/40\n",
      "5/5 [==============================] - 24s 5s/step - loss: 1.0163 - accuracy: 0.3812\n",
      "Epoch 6/40\n",
      "5/5 [==============================] - 22s 4s/step - loss: 1.0089 - accuracy: 0.4140\n",
      "Epoch 7/40\n",
      "5/5 [==============================] - 23s 5s/step - loss: 1.0075 - accuracy: 0.4125\n",
      "Epoch 8/40\n",
      "5/5 [==============================] - 21s 4s/step - loss: 1.0022 - accuracy: 0.4268\n",
      "Epoch 9/40\n",
      "5/5 [==============================] - 25s 5s/step - loss: 1.0213 - accuracy: 0.3375\n",
      "Epoch 10/40\n",
      "5/5 [==============================] - 21s 4s/step - loss: 0.9965 - accuracy: 0.4500\n",
      "Epoch 11/40\n",
      "5/5 [==============================] - 25s 5s/step - loss: 1.0114 - accuracy: 0.3439\n",
      "Epoch 12/40\n",
      "5/5 [==============================] - 24s 5s/step - loss: 1.0072 - accuracy: 0.3694\n",
      "Epoch 13/40\n",
      "5/5 [==============================] - 22s 4s/step - loss: 0.9986 - accuracy: 0.6313\n",
      "Epoch 14/40\n",
      "5/5 [==============================] - 23s 5s/step - loss: 0.9990 - accuracy: 0.6369\n",
      "Epoch 15/40\n",
      "5/5 [==============================] - 22s 4s/step - loss: 0.9963 - accuracy: 0.7312\n",
      "Epoch 16/40\n",
      "5/5 [==============================] - 24s 5s/step - loss: 1.0000 - accuracy: 0.6750\n",
      "Epoch 17/40\n",
      "5/5 [==============================] - 21s 4s/step - loss: 0.9850 - accuracy: 0.6943\n",
      "Epoch 18/40\n",
      "5/5 [==============================] - 27s 5s/step - loss: 0.9990 - accuracy: 0.7188\n",
      "Epoch 19/40\n",
      "5/5 [==============================] - 23s 5s/step - loss: 0.9933 - accuracy: 0.7063\n",
      "Epoch 20/40\n",
      "5/5 [==============================] - 23s 5s/step - loss: 0.9910 - accuracy: 0.6369\n",
      "Epoch 21/40\n",
      "5/5 [==============================] - 24s 5s/step - loss: 0.9888 - accuracy: 0.7063\n",
      "Epoch 22/40\n",
      "5/5 [==============================] - 22s 4s/step - loss: 0.9836 - accuracy: 0.6752\n",
      "Epoch 23/40\n",
      "5/5 [==============================] - 24s 5s/step - loss: 0.9812 - accuracy: 0.6433\n",
      "Epoch 24/40\n",
      "5/5 [==============================] - 26s 5s/step - loss: 0.9825 - accuracy: 0.7250\n",
      "Epoch 25/40\n",
      "5/5 [==============================] - 23s 5s/step - loss: 0.9823 - accuracy: 0.7261\n",
      "Epoch 26/40\n",
      "5/5 [==============================] - 23s 5s/step - loss: 0.9847 - accuracy: 0.6625\n",
      "Epoch 27/40\n",
      "5/5 [==============================] - 24s 5s/step - loss: 0.9877 - accuracy: 0.6438\n",
      "Epoch 28/40\n",
      "5/5 [==============================] - 21s 4s/step - loss: 0.9694 - accuracy: 0.7437\n",
      "Epoch 29/40\n",
      "5/5 [==============================] - 23s 5s/step - loss: 0.9815 - accuracy: 0.6688\n",
      "Epoch 30/40\n",
      "5/5 [==============================] - 23s 5s/step - loss: 0.9808 - accuracy: 0.6875\n",
      "Epoch 31/40\n",
      "5/5 [==============================] - 21s 4s/step - loss: 0.9645 - accuracy: 0.6879\n",
      "Epoch 32/40\n",
      "5/5 [==============================] - 23s 5s/step - loss: 0.9681 - accuracy: 0.6875\n",
      "Epoch 33/40\n",
      "5/5 [==============================] - 23s 5s/step - loss: 0.9753 - accuracy: 0.6875\n",
      "Epoch 34/40\n",
      "5/5 [==============================] - 25s 5s/step - loss: 0.9777 - accuracy: 0.7000\n",
      "Epoch 35/40\n",
      "5/5 [==============================] - 23s 5s/step - loss: 0.9623 - accuracy: 0.6625\n",
      "Epoch 36/40\n",
      "5/5 [==============================] - 21s 4s/step - loss: 0.9554 - accuracy: 0.7771\n",
      "Epoch 37/40\n",
      "5/5 [==============================] - 25s 5s/step - loss: 0.9753 - accuracy: 0.6306\n",
      "Epoch 38/40\n",
      "5/5 [==============================] - 23s 5s/step - loss: 0.9630 - accuracy: 0.6438\n",
      "Epoch 39/40\n",
      "5/5 [==============================] - 25s 5s/step - loss: 0.9653 - accuracy: 0.6500\n",
      "Epoch 40/40\n",
      "5/5 [==============================] - 24s 5s/step - loss: 0.9603 - accuracy: 0.7707\n"
     ]
    },
    {
     "data": {
      "text/plain": [
       "<keras.callbacks.callbacks.History at 0x251dd5f24a8>"
      ]
     },
     "execution_count": 12,
     "metadata": {},
     "output_type": "execute_result"
    }
   ],
   "source": [
    "classifier.fit_generator(training_set,steps_per_epoch = 5,\n",
    "epochs = 40)"
   ]
  },
  {
   "cell_type": "code",
   "execution_count": 13,
   "metadata": {},
   "outputs": [
    {
     "name": "stdout",
     "output_type": "stream",
     "text": [
      "Saved model to disk\n"
     ]
    }
   ],
   "source": [
    "classifier.save(\"tharun_P.h5\")\n",
    "print(\"Saved model to disk\")"
   ]
  },
  {
   "cell_type": "code",
   "execution_count": 14,
   "metadata": {},
   "outputs": [],
   "source": [
    "classifier.save_weights('tharun_W.h5')"
   ]
  },
  {
   "cell_type": "code",
   "execution_count": 61,
   "metadata": {},
   "outputs": [],
   "source": [
    "import numpy as np\n",
    "from keras.preprocessing import image\n",
    "test_image = image.load_img(r'C:\\Users\\kumar\\Autonomous\\tharun\\data\\train\\madhu\\1.jpg' ,target_size = (64, 64))\n",
    "#test_image = image.load_img(r'C:\\Users\\kumar\\DIGIOTAI\\Autonomous\\Madhu\\data\\train\\prashanth\\2.jpg' ,target_size = (64, 64))\n",
    "#test_image=image.load_img(r'C:\\Users\\kumar\\a1.PROJECTS\\CARDING\\img.jpg',target_size=(64,64))\n",
    "#test_image = image.load_img(r'C:\\Users\\kumar\\DIGIOTAI\\Autonomous\\Madhu\\data\\train\\tharun\\1.jpg' ,target_size = (64, 64))\n",
    "test_image = image.img_to_array(test_image)\n",
    "test_image = np.expand_dims(test_image, axis = 0)\n",
    "result = classifier.predict(test_image)\n",
    "training_set.class_indices\n",
    "if result[0][0] == 0.0 or result[0][0]>0.34:\n",
    "    prediction = 'madhu'\n",
    "elif result[0][2] >= 0.4:\n",
    "   \n",
    "    prediction = 'prashanth'\n",
    "elif result[0][0] == 2.0:\n",
    "    prediction='tharun'\n",
    "else:\n",
    "    prediction='none'\n",
    "    "
   ]
  },
  {
   "cell_type": "code",
   "execution_count": 62,
   "metadata": {},
   "outputs": [
    {
     "data": {
      "text/plain": [
       "'madhu'"
      ]
     },
     "execution_count": 62,
     "metadata": {},
     "output_type": "execute_result"
    }
   ],
   "source": [
    "prediction"
   ]
  },
  {
   "cell_type": "code",
   "execution_count": null,
   "metadata": {},
   "outputs": [],
   "source": []
  }
 ],
 "metadata": {
  "kernelspec": {
   "display_name": "Python 3",
   "language": "python",
   "name": "python3"
  },
  "language_info": {
   "codemirror_mode": {
    "name": "ipython",
    "version": 3
   },
   "file_extension": ".py",
   "mimetype": "text/x-python",
   "name": "python",
   "nbconvert_exporter": "python",
   "pygments_lexer": "ipython3",
   "version": "3.7.4"
  }
 },
 "nbformat": 4,
 "nbformat_minor": 2
}
