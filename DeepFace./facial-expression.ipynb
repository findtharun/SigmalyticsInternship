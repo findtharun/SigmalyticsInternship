{
 "cells": [
  {
   "cell_type": "code",
   "execution_count": 1,
   "metadata": {},
   "outputs": [
    {
     "name": "stdout",
     "output_type": "stream",
     "text": [
      "Collecting split_folders\r\n",
      "  Downloading https://files.pythonhosted.org/packages/20/67/29dda743e6d23ac1ea3d16704d8bbb48d65faf3f1b1eaf53153b3da56c56/split_folders-0.3.1-py3-none-any.whl\r\n",
      "Installing collected packages: split-folders\r\n",
      "Successfully installed split-folders-0.3.1\r\n"
     ]
    }
   ],
   "source": [
    "!pip install split_folders"
   ]
  },
  {
   "cell_type": "code",
   "execution_count": 2,
   "metadata": {
    "_cell_guid": "b1076dfc-b9ad-4769-8c92-a6c4dae69d19",
    "_uuid": "8f2839f25d086af736a60e9eeb907d3b93b6e0e5"
   },
   "outputs": [
    {
     "name": "stderr",
     "output_type": "stream",
     "text": [
      "Using TensorFlow backend.\n"
     ]
    }
   ],
   "source": [
    "import numpy as np # linear algebra\n",
    "import pandas as pd # data processing, CSV file I/O (e.g. pd.read_csv)\n",
    "import matplotlib.pyplot as plt\n",
    "import os\n",
    "import shutil\n",
    "import PIL\n",
    "import split_folders\n",
    "import seaborn as sns\n",
    "import tensorflow as tf\n",
    "from sklearn.metrics import confusion_matrix,classification_report\n",
    "from keras.models import Sequential\n",
    "from keras.layers import Conv2D, MaxPooling2D, AveragePooling2D\n",
    "from keras.preprocessing.image import ImageDataGenerator\n",
    "from keras.layers import Dense, Activation, Dropout, Flatten\n",
    "from keras.preprocessing import image\n",
    "from keras.optimizers import Adam,SGD\n",
    "from sklearn.model_selection import train_test_split\n",
    "from keras.metrics import categorical_accuracy\n",
    "from keras.models import model_from_json\n",
    "from keras.callbacks import ModelCheckpoint\n",
    "from keras.optimizers import *\n",
    "from keras.layers.normalization import BatchNormalization\n",
    "from keras.callbacks import ReduceLROnPlateau"
   ]
  },
  {
   "cell_type": "code",
   "execution_count": 3,
   "metadata": {},
   "outputs": [
    {
     "name": "stdout",
     "output_type": "stream",
     "text": [
      "['anger', 'neutral', 'fear', 'joy', 'disgust', 'surprise', 'sad']\n"
     ]
    }
   ],
   "source": [
    "path = \"../input/ferg-db/FERG_DB_256/\"\n",
    "print(os.listdir(path))"
   ]
  },
  {
   "cell_type": "code",
   "execution_count": 4,
   "metadata": {},
   "outputs": [
    {
     "name": "stderr",
     "output_type": "stream",
     "text": [
      "Copying files: 55767 files [02:44, 339.34 files/s]\n"
     ]
    }
   ],
   "source": [
    "split_folders.ratio(path, output=\"split\", seed=1337, ratio=(.7, .2, .1))"
   ]
  },
  {
   "cell_type": "code",
   "execution_count": 5,
   "metadata": {},
   "outputs": [
    {
     "name": "stdout",
     "output_type": "stream",
     "text": [
      "rm: cannot remove './split/val/surprise/bonnie_surprise_1389.png': No such file or directory\r\n",
      "rm: cannot remove './split/test/surprise/bonnie_surprise_1389.png': No such file or directory\r\n"
     ]
    }
   ],
   "source": [
    "!rm \"./split/train/surprise/bonnie_surprise_1389.png\"\n",
    "!rm \"./split/val/surprise/bonnie_surprise_1389.png\"\n",
    "!rm \"./split/test/surprise/bonnie_surprise_1389.png\""
   ]
  },
  {
   "cell_type": "code",
   "execution_count": 6,
   "metadata": {},
   "outputs": [
    {
     "name": "stdout",
     "output_type": "stream",
     "text": [
      "['test', 'val', 'train']\n"
     ]
    }
   ],
   "source": [
    "print(os.listdir(\"./split\"))\n",
    "path = \"./split\""
   ]
  },
  {
   "cell_type": "code",
   "execution_count": 7,
   "metadata": {},
   "outputs": [
    {
     "name": "stdout",
     "output_type": "stream",
     "text": [
      "['sad', 'surprise', 'disgust', 'neutral', 'anger', 'fear', 'joy']\n"
     ]
    }
   ],
   "source": [
    "print(os.listdir(\"./split/train/\"))"
   ]
  },
  {
   "cell_type": "code",
   "execution_count": 8,
   "metadata": {},
   "outputs": [],
   "source": [
    "labels = ['anger','sad', 'fear', 'disgust', 'surprise', 'joy', 'neutral']"
   ]
  },
  {
   "cell_type": "markdown",
   "metadata": {},
   "source": [
    "**Constants**"
   ]
  },
  {
   "cell_type": "code",
   "execution_count": 9,
   "metadata": {},
   "outputs": [],
   "source": [
    "img_height = 128\n",
    "img_width = 128\n",
    "img_channels = 3\n",
    "batch_size = 32\n",
    "epochs = 35"
   ]
  },
  {
   "cell_type": "code",
   "execution_count": 10,
   "metadata": {},
   "outputs": [
    {
     "name": "stdout",
     "output_type": "stream",
     "text": [
      "./split/train/\n",
      "Found 39033 images belonging to 7 classes.\n"
     ]
    }
   ],
   "source": [
    "TRAIN_DIR = \"./split/train/\"\n",
    "print(TRAIN_DIR)\n",
    "train_datagen = ImageDataGenerator(\n",
    "    rescale = 1./255,\n",
    "    rotation_range = 15,\n",
    "    zoom_range = 0.2,\n",
    "    shear_range = 0.1,\n",
    "    fill_mode = 'reflect',\n",
    "    width_shift_range = 0.1,\n",
    "    height_shift_range = 0.1\n",
    ")\n",
    "\n",
    "train_generator = train_datagen.flow_from_directory(\n",
    "    TRAIN_DIR,\n",
    "    target_size=(img_height, img_width),\n",
    "    color_mode=\"rgb\",\n",
    "    batch_size=batch_size,\n",
    "    class_mode=\"categorical\",\n",
    "    shuffle=True,\n",
    "    seed=42\n",
    ")"
   ]
  },
  {
   "cell_type": "code",
   "execution_count": 11,
   "metadata": {},
   "outputs": [
    {
     "name": "stdout",
     "output_type": "stream",
     "text": [
      "anger 6418\n",
      "sad 5338\n",
      "fear 5193\n",
      "disgust 5999\n",
      "surprise 6097\n",
      "joy 5131\n",
      "neutral 4857\n"
     ]
    },
    {
     "data": {
      "image/png": "[encoded data removed]",
      "text/plain": [
       "<Figure size 432x288 with 1 Axes>"
      ]
     },
     "metadata": {
      "needs_background": "light"
     },
     "output_type": "display_data"
    }
   ],
   "source": [
    "sum = 0\n",
    "for val in labels:\n",
    "    count = len(os.listdir(\"./split/train/\" + val))\n",
    "    sum = sum + count\n",
    "    print(val,count)\n",
    "    plt.bar(val,count)\n",
    "    plt.xlabel('Emotions')\n",
    "    plt.ylabel('Number of Images')\n",
    "    plt.title('Distribution of images of training dataset')\n",
    "train_size = sum    "
   ]
  },
  {
   "cell_type": "code",
   "execution_count": 12,
   "metadata": {},
   "outputs": [
    {
     "name": "stdout",
     "output_type": "stream",
     "text": [
      "./split/val/\n",
      "Found 11150 images belonging to 7 classes.\n"
     ]
    }
   ],
   "source": [
    "VAL_DIR = \"./split/val/\"\n",
    "print(VAL_DIR)\n",
    "val_datagen = ImageDataGenerator(\n",
    "    rescale = 1./255,\n",
    ")\n",
    "\n",
    "val_generator = val_datagen.flow_from_directory(\n",
    "    VAL_DIR,\n",
    "    target_size=(img_height, img_width),\n",
    "    color_mode=\"rgb\",\n",
    "    batch_size=batch_size,\n",
    "    class_mode=\"categorical\",\n",
    "    shuffle=False\n",
    ")"
   ]
  },
  {
   "cell_type": "code",
   "execution_count": 13,
   "metadata": {},
   "outputs": [
    {
     "name": "stdout",
     "output_type": "stream",
     "text": [
      "anger 1833\n",
      "sad 1525\n",
      "fear 1483\n",
      "disgust 1714\n",
      "surprise 1742\n",
      "joy 1466\n",
      "neutral 1387\n"
     ]
    },
    {
     "data": {
      "image/png": "[encoded data removed]",
      "text/plain": [
       "<Figure size 432x288 with 1 Axes>"
      ]
     },
     "metadata": {
      "needs_background": "light"
     },
     "output_type": "display_data"
    }
   ],
   "source": [
    "sum = 0\n",
    "for val in labels:\n",
    "    count = len(os.listdir(\"./split/val/\" + val))\n",
    "    sum = sum + count\n",
    "    print(val,count)\n",
    "    plt.bar(val,count)\n",
    "    plt.xlabel('Emotions')\n",
    "    plt.ylabel('Number of Images')\n",
    "    plt.title('Distribution of images of validation dataset')    \n",
    "val_size = sum    "
   ]
  },
  {
   "cell_type": "code",
   "execution_count": 14,
   "metadata": {},
   "outputs": [
    {
     "name": "stdout",
     "output_type": "stream",
     "text": [
      "./split/test/\n",
      "Found 5583 images belonging to 7 classes.\n"
     ]
    }
   ],
   "source": [
    "TEST_DIR = \"./split/test/\"\n",
    "print(TEST_DIR)\n",
    "test_datagen = ImageDataGenerator(\n",
    "    rescale = 1./255,\n",
    ")\n",
    "\n",
    "test_generator = test_datagen.flow_from_directory(\n",
    "    TEST_DIR,\n",
    "    target_size=(img_height, img_width),\n",
    "    color_mode=\"rgb\",\n",
    "    batch_size=batch_size,\n",
    "    class_mode=\"categorical\",\n",
    "    shuffle=False\n",
    ")"
   ]
  },
  {
   "cell_type": "code",
   "execution_count": 15,
   "metadata": {},
   "outputs": [
    {
     "name": "stdout",
     "output_type": "stream",
     "text": [
      "anger 918\n",
      "sad 764\n",
      "fear 743\n",
      "disgust 858\n",
      "surprise 872\n",
      "joy 733\n",
      "neutral 695\n"
     ]
    },
    {
     "data": {
      "image/png": "[encoded data removed]",
      "text/plain": [
       "<Figure size 432x288 with 1 Axes>"
      ]
     },
     "metadata": {
      "needs_background": "light"
     },
     "output_type": "display_data"
    }
   ],
   "source": [
    "sum = 0\n",
    "for val in labels:\n",
    "    count = len(os.listdir(\"./split/test/\" + val))\n",
    "    sum = sum + count\n",
    "    print(val,count)\n",
    "    plt.bar(val,count)\n",
    "    plt.xlabel('Emotions')\n",
    "    plt.ylabel('Number of Images')\n",
    "    plt.title('Distribution of images of test dataset')        \n",
    "test_size = sum    "
   ]
  },
  {
   "cell_type": "code",
   "execution_count": 16,
   "metadata": {
    "_uuid": "c8eaecce539d06c983ed73142ac1484dbfa5e970"
   },
   "outputs": [],
   "source": [
    "model = Sequential()\n",
    "input_shape = (img_height,img_width,img_channels)\n",
    "\n",
    "model.add(Conv2D(64, kernel_size=(3,3), input_shape=input_shape,activation='relu', padding='same'))\n",
    "model.add(Conv2D(64, kernel_size=(3,3), activation='relu', padding='same'))\n",
    "model.add(MaxPooling2D(pool_size=(2,2),strides=(2,2)))\n",
    "\n",
    "model.add(Conv2D(128, kernel_size=(3,3),activation='relu',padding='same'))\n",
    "model.add(Conv2D(128, kernel_size=(3,3),activation='relu',padding='same'))\n",
    "model.add(MaxPooling2D(pool_size=(2,2),strides=(2,2)))\n",
    "\n",
    "model.add(Conv2D(filters=256, kernel_size=(3,3), activation=\"relu\",padding=\"same\"))\n",
    "model.add(Conv2D(filters=256, kernel_size=(3,3), activation=\"relu\",padding=\"same\"))\n",
    "model.add(Conv2D(filters=256, kernel_size=(3,3), activation=\"relu\",padding=\"same\"))\n",
    "model.add(MaxPooling2D(pool_size=(2,2),strides=(2,2)))\n",
    "\n",
    "model.add(Conv2D(filters=512, kernel_size=(3,3), activation=\"relu\",padding=\"same\"))\n",
    "model.add(Conv2D(filters=512, kernel_size=(3,3), activation=\"relu\",padding=\"same\"))\n",
    "model.add(Conv2D(filters=512, kernel_size=(3,3), activation=\"relu\",padding=\"same\"))\n",
    "model.add(MaxPooling2D(pool_size=(2,2),strides=(2,2)))\n",
    "\n",
    "model.add(Conv2D(filters=512, kernel_size=(3,3), activation=\"relu\",padding=\"same\"))\n",
    "model.add(Conv2D(filters=512, kernel_size=(3,3), activation=\"relu\",padding=\"same\"))\n",
    "model.add(Conv2D(filters=512, kernel_size=(3,3), activation=\"relu\",padding=\"same\"))\n",
    "model.add(MaxPooling2D(pool_size=(2,2),strides=(2,2)))\n",
    "\n",
    "model.add(Flatten())\n",
    "model.add(Dense(units=4096,activation=\"relu\"))\n",
    "model.add(Dense(units=4096,activation=\"relu\"))\n",
    "model.add(Dense(units=7, activation=\"softmax\"))"
   ]
  },
  {
   "cell_type": "code",
   "execution_count": 17,
   "metadata": {},
   "outputs": [],
   "source": [
    "opt = SGD(lr=0.01, decay=1e-6, momentum=0.9, nesterov=True)"
   ]
  },
  {
   "cell_type": "code",
   "execution_count": 18,
   "metadata": {},
   "outputs": [],
   "source": [
    "model.compile(loss='categorical_crossentropy', metrics=['accuracy'],optimizer= opt)"
   ]
  },
  {
   "cell_type": "code",
   "execution_count": 19,
   "metadata": {},
   "outputs": [
    {
     "name": "stdout",
     "output_type": "stream",
     "text": [
      "Model: \"sequential_1\"\n",
      "_________________________________________________________________\n",
      "Layer (type)                 Output Shape              Param #   \n",
      "=================================================================\n",
      "conv2d_1 (Conv2D)            (None, 128, 128, 64)      1792      \n",
      "_________________________________________________________________\n",
      "conv2d_2 (Conv2D)            (None, 128, 128, 64)      36928     \n",
      "_________________________________________________________________\n",
      "max_pooling2d_1 (MaxPooling2 (None, 64, 64, 64)        0         \n",
      "_________________________________________________________________\n",
      "conv2d_3 (Conv2D)            (None, 64, 64, 128)       73856     \n",
      "_________________________________________________________________\n",
      "conv2d_4 (Conv2D)            (None, 64, 64, 128)       147584    \n",
      "_________________________________________________________________\n",
      "max_pooling2d_2 (MaxPooling2 (None, 32, 32, 128)       0         \n",
      "_________________________________________________________________\n",
      "conv2d_5 (Conv2D)            (None, 32, 32, 256)       295168    \n",
      "_________________________________________________________________\n",
      "conv2d_6 (Conv2D)            (None, 32, 32, 256)       590080    \n",
      "_________________________________________________________________\n",
      "conv2d_7 (Conv2D)            (None, 32, 32, 256)       590080    \n",
      "_________________________________________________________________\n",
      "max_pooling2d_3 (MaxPooling2 (None, 16, 16, 256)       0         \n",
      "_________________________________________________________________\n",
      "conv2d_8 (Conv2D)            (None, 16, 16, 512)       1180160   \n",
      "_________________________________________________________________\n",
      "conv2d_9 (Conv2D)            (None, 16, 16, 512)       2359808   \n",
      "_________________________________________________________________\n",
      "conv2d_10 (Conv2D)           (None, 16, 16, 512)       2359808   \n",
      "_________________________________________________________________\n",
      "max_pooling2d_4 (MaxPooling2 (None, 8, 8, 512)         0         \n",
      "_________________________________________________________________\n",
      "conv2d_11 (Conv2D)           (None, 8, 8, 512)         2359808   \n",
      "_________________________________________________________________\n",
      "conv2d_12 (Conv2D)           (None, 8, 8, 512)         2359808   \n",
      "_________________________________________________________________\n",
      "conv2d_13 (Conv2D)           (None, 8, 8, 512)         2359808   \n",
      "_________________________________________________________________\n",
      "max_pooling2d_5 (MaxPooling2 (None, 4, 4, 512)         0         \n",
      "_________________________________________________________________\n",
      "flatten_1 (Flatten)          (None, 8192)              0         \n",
      "_________________________________________________________________\n",
      "dense_1 (Dense)              (None, 4096)              33558528  \n",
      "_________________________________________________________________\n",
      "dense_2 (Dense)              (None, 4096)              16781312  \n",
      "_________________________________________________________________\n",
      "dense_3 (Dense)              (None, 7)                 28679     \n",
      "=================================================================\n",
      "Total params: 65,083,207\n",
      "Trainable params: 65,083,207\n",
      "Non-trainable params: 0\n",
      "_________________________________________________________________\n"
     ]
    }
   ],
   "source": [
    "model.summary()"
   ]
  },
  {
   "cell_type": "code",
   "execution_count": 20,
   "metadata": {},
   "outputs": [],
   "source": [
    "learning_rate_reduction = ReduceLROnPlateau(monitor = 'val_accuracy',\n",
    "                                            patience=2,\n",
    "                                            factor=0.1,\n",
    "                                            min_lr = 0.0000001,\n",
    "                                            verbose = 1)"
   ]
  },
  {
   "cell_type": "code",
   "execution_count": 21,
   "metadata": {
    "_uuid": "5004be413385dbdf6c3967d34c59e541095ea667"
   },
   "outputs": [
    {
     "name": "stdout",
     "output_type": "stream",
     "text": [
      "Epoch 1/35\n",
      "1219/1219 [==============================] - 293s 240ms/step - loss: 1.9420 - accuracy: 0.1629 - val_loss: 1.8336 - val_accuracy: 0.1708\n",
      "Epoch 2/35\n",
      "1219/1219 [==============================] - 289s 237ms/step - loss: 1.5930 - accuracy: 0.3316 - val_loss: 0.2618 - val_accuracy: 0.9044\n",
      "Epoch 3/35\n",
      "1219/1219 [==============================] - 289s 237ms/step - loss: 0.1385 - accuracy: 0.9524 - val_loss: 3.5907e-04 - val_accuracy: 0.9992\n",
      "Epoch 4/35\n",
      "1219/1219 [==============================] - 290s 238ms/step - loss: 0.0306 - accuracy: 0.9901 - val_loss: 9.4320e-06 - val_accuracy: 0.9977\n",
      "Epoch 5/35\n",
      "1219/1219 [==============================] - 288s 237ms/step - loss: 0.0188 - accuracy: 0.9942 - val_loss: 2.6077e-08 - val_accuracy: 1.0000\n",
      "Epoch 6/35\n",
      "1219/1219 [==============================] - 289s 237ms/step - loss: 0.0103 - accuracy: 0.9965 - val_loss: 1.9521e-04 - val_accuracy: 1.0000\n",
      "Epoch 7/35\n",
      "1219/1219 [==============================] - 288s 237ms/step - loss: 0.0028 - accuracy: 0.9992 - val_loss: 4.0978e-08 - val_accuracy: 1.0000\n",
      "\n",
      "Epoch 00007: ReduceLROnPlateau reducing learning rate to 0.0009999999776482583.\n",
      "Epoch 8/35\n",
      "1219/1219 [==============================] - 288s 236ms/step - loss: 7.4288e-04 - accuracy: 0.9998 - val_loss: 1.4901e-08 - val_accuracy: 1.0000\n",
      "Epoch 9/35\n",
      "1219/1219 [==============================] - 289s 237ms/step - loss: 3.2585e-04 - accuracy: 0.9999 - val_loss: 3.7253e-09 - val_accuracy: 1.0000\n",
      "\n",
      "Epoch 00009: ReduceLROnPlateau reducing learning rate to 9.999999310821295e-05.\n",
      "Epoch 10/35\n",
      "1219/1219 [==============================] - 288s 236ms/step - loss: 1.4630e-04 - accuracy: 1.0000 - val_loss: 0.0000e+00 - val_accuracy: 1.0000\n",
      "Epoch 11/35\n",
      "1219/1219 [==============================] - 287s 236ms/step - loss: 2.2019e-04 - accuracy: 1.0000 - val_loss: 1.1176e-08 - val_accuracy: 1.0000\n",
      "\n",
      "Epoch 00011: ReduceLROnPlateau reducing learning rate to 9.999999019782991e-06.\n",
      "Epoch 12/35\n",
      "1219/1219 [==============================] - 288s 236ms/step - loss: 2.7632e-04 - accuracy: 0.9999 - val_loss: 2.2352e-08 - val_accuracy: 1.0000\n",
      "Epoch 15/35\n",
      "1219/1219 [==============================] - 289s 237ms/step - loss: 1.7603e-04 - accuracy: 0.9999 - val_loss: 0.0000e+00 - val_accuracy: 1.0000\n",
      "\n",
      "Epoch 00019: ReduceLROnPlateau reducing learning rate to 1e-07.\n",
      "Epoch 20/35\n",
      "1219/1219 [==============================] - 289s 237ms/step - loss: 2.7241e-04 - accuracy: 0.9999 - val_loss: 0.0000e+00 - val_accuracy: 1.0000\n",
      "Epoch 21/35\n",
      "1219/1219 [==============================] - 289s 237ms/step - loss: 2.2881e-04 - accuracy: 0.9999 - val_loss: 0.0000e+00 - val_accuracy: 1.0000\n",
      "Epoch 27/35\n",
      "1219/1219 [==============================] - 290s 238ms/step - loss: 3.3009e-04 - accuracy: 0.9999 - val_loss: 1.4901e-08 - val_accuracy: 1.0000\n",
      "Epoch 29/35\n",
      "1219/1219 [==============================] - 290s 238ms/step - loss: 1.4835e-04 - accuracy: 0.9999 - val_loss: 0.0000e+00 - val_accuracy: 1.0000\n",
      "\n",
      "Epoch 00031: ReduceLROnPlateau reducing learning rate to 1e-07.\n",
      "Epoch 32/35\n",
      "1219/1219 [==============================] - 287s 236ms/step - loss: 1.1393e-04 - accuracy: 1.0000 - val_loss: 0.0000e+00 - val_accuracy: 1.0000\n",
      "\n",
      "Epoch 00033: ReduceLROnPlateau reducing learning rate to 1e-07.\n",
      "Epoch 34/35\n",
      "1123/1219 [==========================>...] - ETA: 20s - loss: 2.1536e-04 - accuracy: 0.9999"
     ]
    }
   ],
   "source": [
    "path_model='model_filter.h5' \n",
    "# fit the model\n",
    "hist = model.fit_generator(\n",
    "    train_generator,\n",
    "    epochs = epochs,\n",
    "    validation_data = val_generator,\n",
    "    steps_per_epoch = train_size//batch_size,\n",
    "    validation_steps = val_size//batch_size,\n",
    "    callbacks = [\n",
    "        ModelCheckpoint(filepath=path_model),\n",
    "        learning_rate_reduction,\n",
    "    ]\n",
    ")"
   ]
  },
  {
   "cell_type": "code",
   "execution_count": 22,
   "metadata": {},
   "outputs": [],
   "source": [
    "model.save('model.h5')"
   ]
  },
  {
   "cell_type": "code",
   "execution_count": 23,
   "metadata": {},
   "outputs": [],
   "source": [
    "# import matplotlib.pyplot as plt\n",
    "# plt.plot(hist.history['accuracy'])\n",
    "# plt.plot(hist.history['val_accuracy'])\n",
    "# plt.title('model loss')\n",
    "# plt.ylabel('loss')\n",
    "# plt.xlabel('epoch')\n",
    "# plt.legend(['train', 'test'], loc='upper left')\n",
    "# plt.show()"
   ]
  },
  {
   "cell_type": "code",
   "execution_count": 24,
   "metadata": {},
   "outputs": [
    {
     "name": "stdout",
     "output_type": "stream",
     "text": [
      "99.99743700027466\n"
     ]
    }
   ],
   "source": [
    "score = model.evaluate_generator(train_generator)\n",
    "print(score[1]*100)"
   ]
  },
  {
   "cell_type": "code",
   "execution_count": 25,
   "metadata": {},
   "outputs": [
    {
     "name": "stdout",
     "output_type": "stream",
     "text": [
      "100.0\n"
     ]
    }
   ],
   "source": [
    "score = model.evaluate_generator(val_generator)\n",
    "print(score[1]*100)"
   ]
  },
  {
   "cell_type": "code",
   "execution_count": 26,
   "metadata": {},
   "outputs": [
    {
     "name": "stdout",
     "output_type": "stream",
     "text": [
      "100.0\n"
     ]
    }
   ],
   "source": [
    "score = model.evaluate_generator(test_generator)\n",
    "print(score[1]*100)"
   ]
  },
  {
   "cell_type": "code",
   "execution_count": 27,
   "metadata": {},
   "outputs": [],
   "source": [
    "# y_predict = model.predict_generator(test_generator)\n",
    "# y_predict = np.argmax(y_predict)\n",
    "# y_predict = y_predict.flatten()"
   ]
  },
  {
   "cell_type": "code",
   "execution_count": 28,
   "metadata": {},
   "outputs": [],
   "source": [
    "# x = test_generator.classes\n",
    "# x = np.array(x)"
   ]
  },
  {
   "cell_type": "code",
   "execution_count": 29,
   "metadata": {},
   "outputs": [],
   "source": [
    "# # res = model.predict(X_val)\n",
    "# # n_classes = 7\n",
    "# # cnf = np.zeros(shape=(n_classes, n_classes))\n",
    "# # for i in range(len(res)):\n",
    "# #     if (np.argmax(Y_val[i]) != np.argmax(res[i])):\n",
    "# #         cnf[np.argmax(Y_val[i])][np.argmax(res[i])] += 1\n",
    "# # print(cnf)\n",
    "# cnf = confusion_matrix(x,y_predict)\n",
    "\n",
    "# f = plt.figure(figsize=(15,15))\n",
    "# ax = f.add_subplot(111)\n",
    "\n",
    "# sns.heatmap(cnf, annot=True, ax = ax);\n",
    "# # labels, title and ticks\n",
    "# ax.set_xlabel('Predicted labels')\n",
    "# ax.set_ylabel('True labels');\n",
    "# ax.set_title('Confusion Matrix');\n",
    "# ax.xaxis.set_ticklabels(labels.values())\n",
    "# ax.yaxis.set_ticklabels(labels.values())"
   ]
  },
  {
   "cell_type": "code",
   "execution_count": 30,
   "metadata": {
    "_uuid": "077d44e8bbb7549a09682eb09c417903bf2fd935"
   },
   "outputs": [],
   "source": [
    "# def emotion_analysis(emotions):\n",
    "#     objects = ('angry', 'disgust', 'fear', 'happy', 'sad', 'surprise', 'neutral')\n",
    "#     y_pos = np.arange(len(objects))\n",
    "    \n",
    "#     plt.bar(y_pos, emotions, align='center', alpha=0.5)\n",
    "#     plt.xticks(y_pos, objects)\n",
    "#     plt.ylabel('percentage')\n",
    "#     plt.title('emotion')\n",
    "    \n",
    "# plt.show()"
   ]
  },
  {
   "cell_type": "code",
   "execution_count": 31,
   "metadata": {
    "_uuid": "70fc48e66d18c54ba629e625ad8def5ad2d93fa6"
   },
   "outputs": [],
   "source": [
    "# from skimage import io\n",
    "# img = image.load_img('./anger.png', grayscale=True, target_size=(48, 48))\n",
    "# x = image.img_to_array(img)\n",
    "# x = np.expand_dims(x, axis = 0)\n",
    "\n",
    "# x /= 255\n",
    "\n",
    "# custom = model.predict(x)\n",
    "# emotion_analysis(custom[0])\n",
    "\n",
    "# x = np.array(x, 'float32')\n",
    "# x = x.reshape([48, 48]);\n",
    "\n",
    "# plt.gray()\n",
    "# plt.imshow(x)\n",
    "# plt.show()"
   ]
  },
  {
   "cell_type": "code",
   "execution_count": 32,
   "metadata": {
    "_uuid": "cb38aab2ab44e5c65e8e1e205e11bbdfad741c53"
   },
   "outputs": [],
   "source": [
    "# img = image.load_img('./anger.png', grayscale=True, target_size=(48, 48))"
   ]
  },
  {
   "cell_type": "code",
   "execution_count": 33,
   "metadata": {},
   "outputs": [],
   "source": [
    "shutil.rmtree(\"./split\")"
   ]
  }
 ],
 "metadata": {
  "kernelspec": {
   "display_name": "Python 3",
   "language": "python",
   "name": "python3"
  },
  "language_info": {
   "codemirror_mode": {
    "name": "ipython",
    "version": 3
   },
   "file_extension": ".py",
   "mimetype": "text/x-python",
   "name": "python",
   "nbconvert_exporter": "python",
   "pygments_lexer": "ipython3",
   "version": "3.7.5"
  }
 },
 "nbformat": 4,
 "nbformat_minor": 1
}
